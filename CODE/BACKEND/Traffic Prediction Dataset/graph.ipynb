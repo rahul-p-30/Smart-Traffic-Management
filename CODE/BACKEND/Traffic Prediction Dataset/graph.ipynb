{
 "cells": [
  {
   "cell_type": "code",
   "execution_count": null,
   "metadata": {},
   "outputs": [],
   "source": [
    "# pip install folium"
   ]
  },
  {
   "cell_type": "code",
   "execution_count": 8,
   "metadata": {},
   "outputs": [],
   "source": [
    "import pandas as pd\n",
    "import numpy as np\n",
    "\n",
    "# Define the number of data points\n",
    "num_points = 1000\n",
    "\n",
    "# Generate random latitude and longitude values within the range of Pune\n",
    "np.random.seed(0)\n",
    "latitudes = np.random.uniform(18.5, 19.0, num_points)\n",
    "longitudes = np.random.uniform(73.7, 74.2, num_points)\n",
    "\n",
    "# Randomly assign traffic conditions\n",
    "traffic_conditions = np.random.choice(['low', 'normal', 'high', 'heavy'], num_points)\n",
    "\n",
    "# Create a DataFrame\n",
    "data = pd.DataFrame({\n",
    "    'Latitude': latitudes,\n",
    "    'Longitude': longitudes,\n",
    "    'TrafficCondition': traffic_conditions\n",
    "})\n",
    "\n",
    "# Save to a CSV file\n",
    "data.to_csv('traffic_data_pune.csv', index=False)\n"
   ]
  },
  {
   "cell_type": "code",
   "execution_count": null,
   "metadata": {},
   "outputs": [],
   "source": []
  }
 ],
 "metadata": {
  "kernelspec": {
   "display_name": "colab",
   "language": "python",
   "name": "python3"
  },
  "language_info": {
   "codemirror_mode": {
    "name": "ipython",
    "version": 3
   },
   "file_extension": ".py",
   "mimetype": "text/x-python",
   "name": "python",
   "nbconvert_exporter": "python",
   "pygments_lexer": "ipython3",
   "version": "3.10.12"
  }
 },
 "nbformat": 4,
 "nbformat_minor": 2
}
